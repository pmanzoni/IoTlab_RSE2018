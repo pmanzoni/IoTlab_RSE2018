{
  "nbformat": 4,
  "nbformat_minor": 0,
  "metadata": {
    "colab": {
      "name": "subTTN.ipynb",
      "version": "0.3.2",
      "views": {},
      "default_view": {},
      "provenance": [],
      "collapsed_sections": []
    },
    "kernelspec": {
      "name": "python2",
      "display_name": "Python 2"
    }
  },
  "cells": [
    {
      "metadata": {
        "id": "d4Gqj-aiU5qH",
        "colab_type": "code",
        "colab": {
          "autoexec": {
            "startup": false,
            "wait_interval": 0
          }
        }
      },
      "cell_type": "code",
      "source": [
        "!pip install paho-mqtt\n",
        "\n",
        "import sys\n",
        "import time\n",
        "import base64\n",
        "\n",
        "import json\n",
        "import struct\n",
        "\n",
        "import paho.mqtt.client as mqtt\n",
        "\n",
        "THE_BROKER = \"eu.thethings.network\"\n",
        "THE_TOPIC = \"+/devices/+/up\"\n",
        "\n",
        "# SET HERE THE VALUES OF YOUR APP AND DEVICE\n",
        "TTN_USERNAME = \"VOID\"\n",
        "TTN_PASSWORD = \"VOID\"\n",
        "\n",
        "\n",
        "# The callback for when the client receives a CONNACK response from the server.\n",
        "def on_connect(client, userdata, flags, rc):\n",
        "    print(\"Connected to \", client._host, \"port: \", client._port)\n",
        "    print(\"Flags: \", flags, \"return code: \", rc)\n",
        "\n",
        "    # Subscribing in on_connect() means that if we lose the connection and\n",
        "    # reconnect then subscriptions will be renewed.\n",
        "    client.subscribe(THE_TOPIC)\n",
        "\n",
        "# The callback for when a PUBLISH message is received from the server.\n",
        "def on_message(client, userdata, msg):\n",
        "\n",
        "    themsg = json.loads(str(msg.payload))\n",
        "    payload_raw = themsg[\"payload_raw\"]\n",
        "    payload_plain = base64.b64decode(payload_raw)\n",
        "\n",
        "    vals = struct.unpack(\">fff\", payload_plain)\n",
        "\n",
        "    print(\"Vals: temp. {} hum. {} lux: {}\".format(vals[0], vals[1], vals[2]))\n",
        "\n",
        "\n",
        "client = mqtt.Client()\n",
        "\n",
        "# Let's see if you inserted the required data\n",
        "if TTN_USERNAME == 'VOID':\n",
        "    print(\"\\nYou must set the values of your app and device first!!\\n\")\n",
        "    sys.exit()\n",
        "client.username_pw_set(TTN_USERNAME, password=TTN_PASSWORD)\n",
        "\n",
        "client.on_connect = on_connect\n",
        "client.on_message = on_message\n",
        "\n",
        "client.connect(THE_BROKER, 1883, 60)\n",
        "\n",
        "client.loop_forever()\n"
      ],
      "execution_count": 0,
      "outputs": []
    }
  ]
}