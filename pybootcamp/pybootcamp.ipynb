{
  "nbformat": 4,
  "nbformat_minor": 0,
  "metadata": {
    "colab": {
      "name": "pybootcamp.ipynb",
      "version": "0.3.2",
      "views": {},
      "default_view": {},
      "provenance": [
        {
          "file_id": "1QBac3BVVOklIkd5x2gRmTPi6Da5o3QwZ",
          "timestamp": 1526412837137
        }
      ],
      "private_outputs": true,
      "collapsed_sections": [],
      "toc_visible": true
    },
    "kernelspec": {
      "name": "python3",
      "display_name": "Python 3"
    }
  },
  "cells": [
    {
      "metadata": {
        "id": "K9rPpX-somtd",
        "colab_type": "text"
      },
      "cell_type": "markdown",
      "source": [
        ""
      ]
    },
    {
      "metadata": {
        "id": "fn45ITAA3drj",
        "colab_type": "text"
      },
      "cell_type": "markdown",
      "source": [
        "# A quick boot camp of Python for the IoT\n",
        "\n",
        "The goal of this document is to aggregate direct references of all the basic details necessary to program in Python for IoT.\n",
        "\n",
        "This text and these exercises are taken from the excellent tutorial \"A Byte of Python\" by C H Swaroop. \n",
        " [Find out more](https://www.gitbook.com/book/swaroopch/byte-of-python/details) about the book, or [read it online](https://python.swaroopch.com/). \n",
        "\n",
        "Another excelent course on line can be found here:\n",
        "https://developers.google.com/edu/python/\n",
        "\n",
        "\n"
      ]
    },
    {
      "metadata": {
        "id": "UxwQZCTWuC1_",
        "colab_type": "text"
      },
      "cell_type": "markdown",
      "source": [
        "# A First Program"
      ]
    },
    {
      "metadata": {
        "id": "6tQ0VlGTuF_o",
        "colab_type": "text"
      },
      "cell_type": "markdown",
      "source": [
        "This first program allows you to  test how to use the interactive Python interpreter of Google Colab to run code. Type and run the following program in the cell below:\n",
        "\n",
        "\n",
        "```\n",
        "i = 5\n",
        "print(i)\n",
        "i = i + 1\n",
        "print(i)\n",
        "\n",
        "s = '''This is a multi-line string.\n",
        "This is the second line.'''\n",
        "print(s)\n",
        "\n",
        "```\n",
        "\n"
      ]
    },
    {
      "metadata": {
        "id": "6VRNK0KluOsK",
        "colab_type": "code",
        "colab": {
          "autoexec": {
            "startup": false,
            "wait_interval": 0
          }
        }
      },
      "cell_type": "code",
      "source": [
        "# add the code here:\n"
      ],
      "execution_count": 0,
      "outputs": []
    },
    {
      "metadata": {
        "id": "v0B-k41QuaPJ",
        "colab_type": "text"
      },
      "cell_type": "markdown",
      "source": [
        "## How It Works\n",
        "Here's how this program works.\n",
        " * First, we assign the literal constant value 5 to the variable i using the assignment operator (=). This line is called a statement because it states that something should be done and in this case, we connect the variable name i to the value 5.\n",
        " * Next, we print the value of i using the print statement which, unsurprisingly, just prints the value of the variable to the screen.\n",
        " * Then we add 1 to the value stored in i and store it back. We then print it and expectedly, we get the value 6.\n",
        " * Similarly, we assign the literal string to the variables and then print it."
      ]
    },
    {
      "metadata": {
        "id": "E2TJJ6p9iree",
        "colab_type": "text"
      },
      "cell_type": "markdown",
      "source": [
        "# Variables\n",
        "Variables are exactly what the name implies - their value can vary, i.e., you can store anything using a variable. Variables are just parts of your computer's memory where you store some information. Unlike literal constants, you need some method of accessing these variables and hence you give them names.\n",
        "\n"
      ]
    },
    {
      "metadata": {
        "id": "CkdGWn2ukGGg",
        "colab_type": "text"
      },
      "cell_type": "markdown",
      "source": [
        "## Identifier Naming\n",
        "Variables are examples of identifiers. Identifiers are names given to identify something. There are some rules you have to follow for naming identifiers:\n",
        "* The first character of the identifier must be a letter of the alphabet (uppercase ASCII or lowercase ASCII or Unicode character) or an underscore (_).\n",
        "* The rest of the identifier name can consist of letters (uppercase ASCII or lowercase ASCII or Unicode character), underscores (_) or digits (0-9).\n",
        "* Identifier names are case-sensitive. For example, myname and myName are not the same. Note the lowercase n in the former and the uppercase N in the latter.\n",
        "* Examples of valid identifier names are i, name_2_3. Examples of invalid identifier names are ```2things```, ```this is spaced out```, ```my-name``` and ```>a1b2_c3```.\n"
      ]
    },
    {
      "metadata": {
        "id": "90L8i0AYXBYJ",
        "colab_type": "text"
      },
      "cell_type": "markdown",
      "source": [
        "Fix the broken variables names below to make this program work."
      ]
    },
    {
      "metadata": {
        "id": "qA8wJWOkWT69",
        "colab_type": "code",
        "colab": {
          "autoexec": {
            "startup": false,
            "wait_interval": 0
          }
        }
      },
      "cell_type": "code",
      "source": [
        "1st_bad_var = 10\n",
        "2nd_bad_var = 9\n",
        "third-bad-var = 8\n",
        "# Don't forget to fix the variable names in the statement below too!\n",
        "sum = 1st_bad_var + 2nd_bad_var + third-bad-var\n",
        "print (sum)"
      ],
      "execution_count": 0,
      "outputs": []
    },
    {
      "metadata": {
        "id": "jsuXKnZQzXg_",
        "colab_type": "text"
      },
      "cell_type": "markdown",
      "source": [
        "# Operators and Expressions"
      ]
    },
    {
      "metadata": {
        "id": "akRWGIu8zaIW",
        "colab_type": "text"
      },
      "cell_type": "markdown",
      "source": [
        "Most statements (logical lines) that you write will contain _expressions_. A simple example of an expression is `2 + 3`. An expression can be broken down into operators and operands.\n",
        "\n",
        "_Operators_ are functionality that do something and can be represented by symbols such as `+` or by special keywords. Operators require some data to operate on and such data is called _operands_. In this case, `2` and `3` are the operands.\n",
        "\n",
        "Note that you can evaluate the expressions given in the examples using the interpreter interactively. For example, to test the expression `2 + 3`, use the interactive Python interpreter prompt:\n"
      ]
    },
    {
      "metadata": {
        "id": "pdLkrGoFzyRH",
        "colab_type": "code",
        "colab": {
          "autoexec": {
            "startup": false,
            "wait_interval": 0
          }
        }
      },
      "cell_type": "code",
      "source": [
        "# Type 2 + 3\n",
        "\n",
        "# Then type 3 * 5\n"
      ],
      "execution_count": 0,
      "outputs": []
    },
    {
      "metadata": {
        "id": "zYj-xwupzypj",
        "colab_type": "text"
      },
      "cell_type": "markdown",
      "source": [
        "\n",
        "### Here is a quick overview of the most common operators:\n",
        "\n",
        "- `+` (plus)\n",
        "    - Adds two objects\n",
        "    - `3 + 5` gives `8`. `'a' + 'b'` gives `'ab'`.\n",
        "\n",
        "- `-` (minus)\n",
        "    - Gives the subtraction of one number from the other; if the first operand is absent it is assumed to be zero.\n",
        "    - `-5.2` gives a negative number and `50 - 24` gives `26`.\n",
        "\n",
        "- `*` (multiply)\n",
        "    - Gives the multiplication of the two numbers or returns the string repeated that many times.\n",
        "    - `2 * 3` gives `6`. `'la' * 3` gives `'lalala'`.\n",
        "\n",
        "- `**` (power)\n",
        "    - Returns x to the power of y\n",
        "    - `3 ** 4` gives `81` (i.e. `3 * 3 * 3 * 3`)\n",
        "\n",
        "- `/` (divide)\n",
        "    - Divide x by y\n",
        "    - `13 / 3` gives `4.333333333333333`\n",
        "\n",
        "- `//` (divide and floor)\n",
        "    - Divide x by y and round the answer _down_ to the nearest integer value. Note that if one of the values is a float, you'll get back a float.\n",
        "    - `13 // 3` gives `4`\n",
        "    - `-13 // 3` gives `-5`\n",
        "    - `9//1.81` gives `4.0`\n",
        "\n",
        "- `%` (modulo)\n",
        "    - Returns the remainder of the division\n",
        "    - `13 % 3` gives `1`. `-25.5 % 2.25` gives `1.5`.\n",
        "\n",
        "- `<` (less than)\n",
        "    - Returns whether x is less than y. All comparison operators return `True` or `False`. Note the capitalization of these names.\n",
        "    - `5 < 3` gives `False` and `3 < 5` gives `True`.\n",
        "    - Comparisons can be chained arbitrarily: `3 < 5 < 7` gives `True`.\n",
        "\n",
        "- `>` (greater than)\n",
        "    - Returns whether x is greater than y\n",
        "    - `5 > 3` returns `True`. If both operands are numbers, they are first converted to a common type. Otherwise, it always returns `False`.\n",
        "\n",
        "- `<=` (less than or equal to)\n",
        "    - Returns whether x is less than or equal to y\n",
        "    - `x = 3; y = 6; x <= y` returns `True`\n",
        "\n",
        "- `>=` (greater than or equal to)\n",
        "    - Returns whether x is greater than or equal to y\n",
        "    - `x = 4; y = 3; x >= 3` returns `True`\n",
        "\n",
        "- `==` (equal to)\n",
        "    - Compares if the objects are equal\n",
        "    - `x = 2; y = 2; x == y` returns `True`\n",
        "    - `x = 'str'; y = 'stR'; x == y` returns `False`\n",
        "    - `x = 'str'; y = 'str'; x == y` returns `True`\n",
        "\n",
        "- `!=` (not equal to)\n",
        "    - Compares if the objects are not equal\n",
        "    - `x = 2; y = 3; x != y` returns `True`\n",
        "\n",
        "- `not` (boolean NOT)\n",
        "    - If x is `True`, it returns `False`. If x is `False`, it returns `True`.\n",
        "    - `x = True; not x` returns `False`.\n",
        "\n",
        "- `and` (boolean AND)\n",
        "    - `x and y` returns `False` if x is `False`, else it returns evaluation of y\n",
        "    - `x = False; y = True; x and y` returns `False` since x is False. In this case, Python will not evaluate y since it knows that the left hand side of the 'and' expression is `False` which implies that the whole expression will be `False` irrespective of the other values. This is called short-circuit evaluation.\n",
        "\n",
        "- `or` (boolean OR)\n",
        "    - If x is `True`, it returns True, else it returns evaluation of y\n",
        "    - `x = True; y = False; x or y` returns `True`. Short-circuit evaluation applies here as well.\n",
        "\n"
      ]
    },
    {
      "metadata": {
        "id": "_NWEUeR41seN",
        "colab_type": "text"
      },
      "cell_type": "markdown",
      "source": [
        "#  Control Flow"
      ]
    },
    {
      "metadata": {
        "id": "5CSu_X4V1wFL",
        "colab_type": "text"
      },
      "cell_type": "markdown",
      "source": [
        "In the programs we have seen till now, there has always been a series of statements faithfully executed by Python in exact top-down order. What if you wanted to change the flow of how it works? For example, you want the program to take some decisions and do different things depending on different situations, such as printing 'Good Morning' or 'Good Evening' depending on the time of the day?\n",
        "\n",
        "As you might have guessed, this is achieved using control flow statements. There are three control flow statements in Python - `if`, `for` and `while`."
      ]
    },
    {
      "metadata": {
        "id": "wWU726uL2AtM",
        "colab_type": "text"
      },
      "cell_type": "markdown",
      "source": [
        "## The `if` statement\n",
        "\n",
        "The `if` statement is used to check a condition: *if* the condition is true, we run a block of statements (called the _if-block_), *else* we process another block of statements (called the _else-block_). The *else* clause is optional.\n",
        "\n",
        "**Example:**\n",
        "\n",
        "\n"
      ]
    },
    {
      "metadata": {
        "id": "mS7XyI5UBPMT",
        "colab_type": "code",
        "colab": {
          "autoexec": {
            "startup": false,
            "wait_interval": 0
          }
        }
      },
      "cell_type": "code",
      "source": [
        "number = 23\n",
        "guess = int(input('Enter an integer : '))\n",
        "\n",
        "if guess == number:\n",
        "    # New block starts here\n",
        "    print('Congratulations, you guessed it.')\n",
        "    print('(but you do not win any prizes!)')\n",
        "    # New block ends here\n",
        "elif guess < number:\n",
        "    # Another block\n",
        "    print('No, it is a little higher than that')\n",
        "    # You can do whatever you want in a block ...\n",
        "else:\n",
        "    print('No, it is a little lower than that')\n",
        "    # you must have guessed > number to reach here\n",
        "\n",
        "print('Done')\n",
        "# This last statement is always executed,\n",
        "# after the if statement is executed."
      ],
      "execution_count": 0,
      "outputs": []
    },
    {
      "metadata": {
        "id": "5JFS027_BhYe",
        "colab_type": "text"
      },
      "cell_type": "markdown",
      "source": [
        "## The while Statement\n",
        "\n",
        "The `while` statement allows you to repeatedly execute a block of statements as long as a condition is true. A `while` statement is an example of what is called a *looping* statement. A `while` statement can have an optional `else` clause.\n",
        "\n",
        "**Example:**\n",
        "\n"
      ]
    },
    {
      "metadata": {
        "id": "XrEGh152B2ZW",
        "colab_type": "code",
        "colab": {
          "autoexec": {
            "startup": false,
            "wait_interval": 0
          }
        }
      },
      "cell_type": "code",
      "source": [
        "number = 23\n",
        "running = True\n",
        "\n",
        "while running:\n",
        "    guess = int(input('Enter an integer : '))\n",
        "\n",
        "    if guess == number:\n",
        "        print('Congratulations, you guessed it.')\n",
        "        # this causes the while loop to stop\n",
        "        running = False\n",
        "    elif guess < number:\n",
        "        print('No, it is a little higher than that.')\n",
        "    else:\n",
        "        print('No, it is a little lower than that.')\n",
        "else:\n",
        "    print('The while loop is over.')\n",
        "    # Do anything else you want to do here\n",
        "\n",
        "print('Done')\n"
      ],
      "execution_count": 0,
      "outputs": []
    },
    {
      "metadata": {
        "id": "rJIPeIb-CqJ3",
        "colab_type": "text"
      },
      "cell_type": "markdown",
      "source": [
        "## The `for` loop\n",
        "\n",
        "The `for..in` statement is another looping statement which *iterates* over a sequence of objects i.e. go through each item in a sequence.  What you need to know right now is that a sequence is just an ordered collection of items.\n",
        "\n",
        "**Example:**\n"
      ]
    },
    {
      "metadata": {
        "id": "5m6BCT3MCtZ_",
        "colab_type": "code",
        "colab": {
          "autoexec": {
            "startup": false,
            "wait_interval": 0
          }
        }
      },
      "cell_type": "code",
      "source": [
        "for i in range(1, 5):\n",
        "    print(i)\n",
        "else:\n",
        "    print('The for loop is over')\n",
        "    "
      ],
      "execution_count": 0,
      "outputs": []
    },
    {
      "metadata": {
        "id": "KkXJz6YUC1ws",
        "colab_type": "text"
      },
      "cell_type": "markdown",
      "source": [
        "**How It Works**\n",
        "\n",
        "In this program, we are printing a *sequence* of numbers. We generate this sequence of numbers using the built-in `range` function.\n",
        "\n",
        "What we do here is supply it two numbers and `range` returns a sequence of numbers starting from the first number and up to the second number. For example, `range(1,5)` gives the sequence `[1, 2, 3, 4]`. By default, `range` takes a step count of 1. If we supply a third number to `range`, then that becomes the step count. For example, `range(1,5,2)` gives `[1,3]`. Remember that the range extends *up to* the second number i.e. it does *not* include the second number.\n",
        "\n"
      ]
    },
    {
      "metadata": {
        "id": "jH_zql9Usi5H",
        "colab_type": "code",
        "colab": {
          "autoexec": {
            "startup": false,
            "wait_interval": 0
          }
        }
      },
      "cell_type": "code",
      "source": [
        "for i in range(1,10,2):\n",
        "  print(i)"
      ],
      "execution_count": 0,
      "outputs": []
    },
    {
      "metadata": {
        "id": "asrRTnnPH9Xr",
        "colab_type": "text"
      },
      "cell_type": "markdown",
      "source": [
        "## The break Statement\n",
        "\n",
        "The `break` statement is used to *break* out of a loop statement i.e. stop the execution of a looping statement, even if the loop condition has not become `False` or the sequence of items has not been completely iterated over.\n",
        "\n",
        "An important note is that if you *break* out of a `for` or `while` loop, any corresponding loop `else` block is **not** executed.\n",
        "\n",
        "**Example:**"
      ]
    },
    {
      "metadata": {
        "id": "owqXg0ZQIBWP",
        "colab_type": "code",
        "colab": {
          "autoexec": {
            "startup": false,
            "wait_interval": 0
          }
        }
      },
      "cell_type": "code",
      "source": [
        "while True:\n",
        "    s = input('Enter something : ')\n",
        "    if s == 'quit':\n",
        "        break\n",
        "    print('Length of the string is', len(s))\n",
        "print('Done')\n"
      ],
      "execution_count": 0,
      "outputs": []
    },
    {
      "metadata": {
        "id": "6ohsfruPIPHC",
        "colab_type": "text"
      },
      "cell_type": "markdown",
      "source": [
        "**How It Works**\n",
        "\n",
        "In this program, we repeatedly take the user's input and print the length of each input each\n",
        "time. We are providing a special condition to stop the program by checking if the user input is\n",
        "`'quit'`. We stop the program by *breaking* out of the loop and reach the end of the program.\n",
        "\n",
        "The length of the input string can be found out using the built-in `len` function.\n",
        "\n",
        "Remember that the `break` statement can be used with the `for` loop as well.\n"
      ]
    },
    {
      "metadata": {
        "id": "CgBZL5RfITCD",
        "colab_type": "text"
      },
      "cell_type": "markdown",
      "source": [
        "## The `continue` Statement\n",
        "\n",
        "The `continue` statement is used to tell Python to skip the rest of the statements in the current loop block and to *continue* to the next iteration of the loop.\n",
        "\n",
        "Example (save as `continue.py`):"
      ]
    },
    {
      "metadata": {
        "id": "AlVYsVuDIOuF",
        "colab_type": "code",
        "colab": {
          "autoexec": {
            "startup": false,
            "wait_interval": 0
          }
        }
      },
      "cell_type": "code",
      "source": [
        "while True:\n",
        "    s = input('Enter something : ')\n",
        "    if s == 'quit':\n",
        "        break\n",
        "    if len(s) < 3:\n",
        "        print('Too small')\n",
        "        continue\n",
        "    print('Input is of sufficient length')\n",
        "    # Do other kinds of processing here...\n",
        "    "
      ],
      "execution_count": 0,
      "outputs": []
    },
    {
      "metadata": {
        "id": "__oQ7w4fIlxp",
        "colab_type": "text"
      },
      "cell_type": "markdown",
      "source": [
        "**How It Works**\n",
        "\n",
        "In this program, we accept input from the user, but we process the input string only if it is at least 3 characters long. So, we use the built-in `len` function to get the length and if the length is less than 3, we skip the rest of the statements in the block by using the `continue` statement. Otherwise, the rest of the statements in the loop are executed, doing any kind of processing we want to do here.\n",
        "\n",
        "Note that the `continue` statement works with the `for` loop as well."
      ]
    },
    {
      "metadata": {
        "id": "MrGLH9pflJu-",
        "colab_type": "text"
      },
      "cell_type": "markdown",
      "source": [
        "# Functions\n"
      ]
    },
    {
      "metadata": {
        "id": "OL35JiFKmqOp",
        "colab_type": "text"
      },
      "cell_type": "markdown",
      "source": [
        "Functions are reusable pieces of programs. They allow you to give a name to a block of statements, allowing you to run that block using the specified name anywhere in your program and any number of times. This is known as *calling* the function. We have already used many built-in functions such as `len` and `range`.\n",
        "\n",
        "The function concept is probably *the* most important building block of any non-trivial software (in any programming language), so we will explore various aspects of functions in this chapter.\n",
        "\n",
        "Functions are defined using the `def` keyword. After this keyword comes an *identifier* name for the function, followed by a pair of parentheses which may enclose some names of variables, and by the final colon that ends the line. Next follows the block of statements that are part of this function. An example will show that this is actually very simple:\n",
        "\n",
        "**Example:**"
      ]
    },
    {
      "metadata": {
        "id": "9_F9Uv8RlUY5",
        "colab_type": "code",
        "colab": {
          "autoexec": {
            "startup": false,
            "wait_interval": 0
          }
        }
      },
      "cell_type": "code",
      "source": [
        "def say_hello():\n",
        "    # block belonging to the function\n",
        "    print('hello world')\n",
        "# End of function\n",
        "\n",
        "say_hello()  # call the function\n",
        "say_hello()  # call the function again"
      ],
      "execution_count": 0,
      "outputs": []
    },
    {
      "metadata": {
        "id": "e6bcAvdklV1z",
        "colab_type": "text"
      },
      "cell_type": "markdown",
      "source": [
        "**How It Works**\n",
        "\n",
        "We define a function called `say_hello` using the syntax as explained above. This function takes no parameters and hence there are no variables declared in the parentheses. Parameters to functions are just input to the function so that we can pass in different values to it and get back corresponding results.\n",
        "\n",
        "Notice that we can call the same function twice which means we do not have to write the same code again.\n",
        "\n",
        "## Function Parameters\n",
        "\n",
        "A function can take parameters, which are values you supply to the function so that the function\n",
        "can *do* something utilising those values. These parameters are just like variables except that the\n",
        "values of these variables are defined when we call the function and are already assigned values\n",
        "when the function runs.\n",
        "\n",
        "Parameters are specified within the pair of parentheses in the function definition, separated by\n",
        "commas. When we call the function, we supply the values in the same way.  Note the terminology\n",
        "used - the names given in the function definition are called *parameters* whereas the values you\n",
        "supply in the function call are called *arguments*.\n",
        "\n",
        "**Example:**\n"
      ]
    },
    {
      "metadata": {
        "id": "miEs05qrmGdL",
        "colab_type": "code",
        "colab": {
          "autoexec": {
            "startup": false,
            "wait_interval": 0
          }
        }
      },
      "cell_type": "code",
      "source": [
        "def print_max(a, b):\n",
        "    if a > b:\n",
        "        print(a, 'is maximum')\n",
        "    elif a == b:\n",
        "        print(a, 'is equal to', b)\n",
        "    else:\n",
        "        print(b, 'is maximum')\n",
        "\n",
        "# directly pass literal values\n",
        "print_max(3, 4)\n",
        "\n",
        "x = 5\n",
        "y = 7\n",
        "\n",
        "# pass variables as arguments\n",
        "print_max(x, y)"
      ],
      "execution_count": 0,
      "outputs": []
    },
    {
      "metadata": {
        "id": "GFV_nd-lmIdM",
        "colab_type": "text"
      },
      "cell_type": "markdown",
      "source": [
        "## Local Variables\n",
        "\n",
        "When you declare variables inside a function definition, they are not related in any way to other variables with the same names used outside the function - i.e. variable names are *local* to the function. This is called the *scope* of the variable. All variables have the scope of the block they are declared in starting from the point of definition of the name.\n",
        "\n",
        "Example:\n",
        "\n"
      ]
    },
    {
      "metadata": {
        "id": "1nhCuSRYmgbV",
        "colab_type": "code",
        "colab": {
          "autoexec": {
            "startup": false,
            "wait_interval": 0
          }
        }
      },
      "cell_type": "code",
      "source": [
        "x = 50\n",
        "\n",
        "def func(x):\n",
        "    print('x is', x)\n",
        "    x = 2\n",
        "    print('Changed local x to', x)\n",
        "\n",
        "\n",
        "func(x)\n",
        "print('x is still', x)"
      ],
      "execution_count": 0,
      "outputs": []
    },
    {
      "metadata": {
        "id": "qLmAFh3gmh9I",
        "colab_type": "text"
      },
      "cell_type": "markdown",
      "source": [
        "**How It Works**\n",
        "\n",
        "The first time that we print the *value* of the name *x* with the first line in the function's body, Python uses the value of the parameter declared in the main block, above the function definition.\n",
        "\n",
        "Next, we assign the value `2` to `x`. The name `x` is local to our function.  So, when we change the value of `x` in the function, the `x` defined in the main block remains unaffected.\n",
        "\n",
        "With the last `print` statement, we display the value of `x` as defined in the main block, thereby confirming that it is actually unaffected by the local assignment within the previously called function.\n",
        "\n",
        "## The `global` statement \n",
        "\n",
        "If you want to assign a value to a name defined at the top level of the program (i.e. not inside any kind of scope such as functions or classes), then you have to tell Python that the name is not local, but it is *global*. We do this using the `global` statement. It is impossible to assign a value to a variable defined outside a function without the `global` statement.\n",
        "\n",
        "You can use the values of such variables defined outside the function (assuming there is no variable with the same name within the function). However, this is not encouraged and should be avoided since it becomes unclear to the reader of the program as to where that variable's definition is. Using the `global` statement makes it amply clear that the variable is defined in an outermost block.\n",
        "\n",
        "**Example:**"
      ]
    },
    {
      "metadata": {
        "id": "p5S4_rLUnXoU",
        "colab_type": "code",
        "colab": {
          "autoexec": {
            "startup": false,
            "wait_interval": 0
          }
        }
      },
      "cell_type": "code",
      "source": [
        "x = 50\n",
        "\n",
        "\n",
        "def func():\n",
        "    global x\n",
        "\n",
        "    print('x is', x)\n",
        "    x = 2\n",
        "    print('Changed global x to', x)\n",
        "\n",
        "\n",
        "func()\n",
        "print('Value of x is', x)"
      ],
      "execution_count": 0,
      "outputs": []
    },
    {
      "metadata": {
        "id": "M-ecYJTXnZg0",
        "colab_type": "text"
      },
      "cell_type": "markdown",
      "source": [
        "**How It Works**\n",
        "\n",
        "The `global` statement is used to declare that `x` is a global variable - hence, when we assign a value to `x` inside the function, that change is reflected when we use the value of `x` in the main block.\n",
        "\n",
        "You can specify more than one global variable using the same `global` statement e.g. `global x, y, z`.\n",
        "\n",
        "## Default Argument Values\n",
        "\n",
        "For some functions, you may want to make some parameters *optional* and use default values in case the user does not want to provide values for them. This is done with the help of default argument values. You can specify default argument values for parameters by appending to the parameter name in the function definition the assignment operator (`=`) followed by the default value.\n",
        "\n",
        "Note that the default argument value should be a constant. More precisely, the default argument value should be immutable - this is explained in detail in later chapters. For now, just remember this.\n",
        "\n",
        "Example:\n",
        "\n"
      ]
    },
    {
      "metadata": {
        "id": "em6i_IFSn9sk",
        "colab_type": "code",
        "colab": {
          "autoexec": {
            "startup": false,
            "wait_interval": 0
          }
        }
      },
      "cell_type": "code",
      "source": [
        "def say(message, times=1):\n",
        "    print(message * times)\n",
        "\n",
        "say('Hello')\n",
        "say('World', 5)"
      ],
      "execution_count": 0,
      "outputs": []
    },
    {
      "metadata": {
        "id": "b6_4rV8in_ht",
        "colab_type": "text"
      },
      "cell_type": "markdown",
      "source": [
        "**How It Works**\n",
        "\n",
        "The function named `say` is used to print a string as many times as specified. If we don't supply a value, then by default, the string is printed just once. We achieve this by specifying a default argument value of `1` to the parameter `times`.\n",
        "\n",
        "In the first usage of `say`, we supply only the string and it prints the string once. In the second usage of `say`, we supply both the string and an argument `5` stating that we want to *say* the string message 5 times.\n",
        "\n",
        "> *CAUTION*\n",
        "> \n",
        "> Only those parameters which are at the end of the parameter list can be given default argument\n",
        "> values i.e. you cannot have a parameter with a default argument value preceding a parameter without\n",
        "> a default argument value in the function's parameter list.\n",
        "> \n",
        "> This is because the values are assigned to the parameters by position. For example,`def func(a,\n",
        "> b=5)` is valid, but `def func(a=5, b)` is *not valid*.\n",
        "\n",
        "## Keyword Arguments\n",
        "\n",
        "If you have some functions with many parameters and you want to specify only some of them, then you can give values for such parameters by naming them - this is called *keyword arguments* - we use the name (keyword) instead of the position (which we have been using all along) to specify the arguments to the function.\n",
        "\n",
        "There are two advantages - one, using the function is easier since we do not need to worry about the order of the arguments. Two, we can give values to only those parameters to which we want to, provided that the other parameters have default argument values.\n",
        "\n",
        "Example (save as `function_keyword.py`):\n",
        "\n"
      ]
    },
    {
      "metadata": {
        "id": "8kXbNN-coprA",
        "colab_type": "code",
        "colab": {
          "autoexec": {
            "startup": false,
            "wait_interval": 0
          }
        }
      },
      "cell_type": "code",
      "source": [
        "def func(a, b=5, c=10):\n",
        "    print('a is', a, 'and b is', b, 'and c is', c)\n",
        "\n",
        "func(3, 7)\n",
        "func(25, c=24)\n",
        "func(c=50, a=100)"
      ],
      "execution_count": 0,
      "outputs": []
    },
    {
      "metadata": {
        "id": "Hf1TJzNuorfN",
        "colab_type": "text"
      },
      "cell_type": "markdown",
      "source": [
        "**How It Works**\n",
        "\n",
        "The function named `func` has one parameter without a default argument value, followed by two parameters with default argument values.\n",
        "\n",
        "In the first usage, `func(3, 7)`, the parameter `a` gets the value `3`, the parameter `b` gets the value `7` and `c` gets the default value of `10`.\n",
        "\n",
        "In the second usage `func(25, c=24)`, the variable `a` gets the value of 25 due to the position of the argument. Then, the parameter `c` gets the value of `24` due to naming i.e. keyword arguments. The variable `b` gets the default value of `5`.\n",
        "\n",
        "In the third usage `func(c=50, a=100)`, we use keyword arguments for all specified values. Notice that we are specifying the value for parameter `c` before that for `a` even though `a` is defined before `c` in the function definition.\n",
        "\n"
      ]
    },
    {
      "metadata": {
        "id": "YIrbkl3OpeVm",
        "colab_type": "text"
      },
      "cell_type": "markdown",
      "source": [
        "## The `return` statement\n",
        "\n",
        "The `return` statement is used to *return* from a function i.e. break out of the function. We can optionally *return a value* from the function as well.\n",
        "\n",
        "**Example:**\n",
        "\n"
      ]
    },
    {
      "metadata": {
        "id": "iqg-eAyups5v",
        "colab_type": "code",
        "colab": {
          "autoexec": {
            "startup": false,
            "wait_interval": 0
          }
        }
      },
      "cell_type": "code",
      "source": [
        "def maximum(x, y):\n",
        "    if x > y:\n",
        "        return x\n",
        "    elif x == y:\n",
        "        return 'The numbers are equal'\n",
        "    else:\n",
        "        return y\n",
        "\n",
        "print(maximum(2, 3))"
      ],
      "execution_count": 0,
      "outputs": []
    },
    {
      "metadata": {
        "id": "ie6DFPeGpuqg",
        "colab_type": "text"
      },
      "cell_type": "markdown",
      "source": [
        "**Additional infos**\n",
        "\n",
        "Note that a `return` statement without a value is equivalent to `return None`. `None` is a special type in Python that represents nothingness. For example, it is used to indicate that a variable has no value if it has a value of `None`.\n",
        "\n",
        "Every function implicitly contains a `return None` statement at the end unless you have written your own `return` statement. You can see this by running `print(some_function())` where the function `some_function` does not use the `return` statement such as:\n",
        "\n",
        "```python\n",
        "def some_function():\n",
        "    pass\n",
        "```\n",
        "\n",
        "The `pass` statement is used in Python to indicate an empty block of statements.\n",
        "\n"
      ]
    },
    {
      "metadata": {
        "id": "bIZov1IT0PR1",
        "colab_type": "text"
      },
      "cell_type": "markdown",
      "source": [
        "# Data Structures\n",
        "\n",
        "Data structures are basically just that - they are *structures* which can hold some *data* together. In other words, they are used to store a collection of related data.\n",
        "\n",
        "There are four built-in data structures in Python - _list, tuple, dictionary and set_. We will see how to use each of them and how they make life easier for us."
      ]
    },
    {
      "metadata": {
        "id": "Sl6Glasj0RdF",
        "colab_type": "text"
      },
      "cell_type": "markdown",
      "source": [
        "## List\n",
        "\n",
        "A `list` is a data structure that holds an ordered collection of items i.e. you can store a *sequence* of items in a list. This is easy to imagine if you can think of a shopping list where you have a list of items to buy, except that you probably have each item on a separate line in your shopping list whereas in Python you put commas in between them.\n",
        "\n",
        "The list of items should be enclosed in square brackets so that Python understands that you are specifying a list. Once you have created a list, you can add, remove or search for items in the list. Since we can add and remove items, we say that a list is a *mutable* data type i.e. this type can be altered.\n",
        "\n",
        "**A list is an example of usage of objects and classes**. When we use a variable `i` and assign a value to it, say integer `5` to it, you can think of it as creating an *object* (i.e. instance) `i` of *class* (i.e. type) `int`. In fact, you can read `help(int)` to understand this better.\n",
        "\n",
        "A class can also have *methods* i.e. functions defined for use with respect to that class only. You can use these pieces of functionality only when you have an object of that class. For example, Python provides an `append` method for the `list` class which allows you to add an item to the end of the list. For example, `mylist.append('an item')` will add that string to the list `mylist`. Note the use of dotted notation for accessing methods of the objects.\n",
        "\n",
        "A class can also have *fields* which are nothing but variables defined for use with respect to that class only. You can use these variables/names only when you have an object of that class. Fields are also accessed by the dotted notation, for example, `mylist.field`.\n",
        "\n",
        "**Example:**"
      ]
    },
    {
      "metadata": {
        "id": "BeKxmiOs0bSQ",
        "colab_type": "code",
        "colab": {
          "autoexec": {
            "startup": false,
            "wait_interval": 0
          }
        }
      },
      "cell_type": "code",
      "source": [
        "# This is my shopping list\n",
        "shoplist = ['apple', 'mango', 'carrot', 'banana']\n",
        "\n",
        "print('I have', len(shoplist), 'items to purchase.')\n",
        "\n",
        "print('These items are:', end=' ')\n",
        "for item in shoplist:\n",
        "    print(item, end=' ')\n",
        "\n",
        "print('\\nI also have to buy rice.')\n",
        "shoplist.append('rice')\n",
        "print('My shopping list is now', shoplist)\n",
        "\n",
        "print('I will sort my list now')\n",
        "shoplist.sort()\n",
        "print('Sorted shopping list is', shoplist)\n",
        "\n",
        "print('The first item I will buy is', shoplist[0])\n",
        "olditem = shoplist[0]\n",
        "del shoplist[0]\n",
        "print('I bought the', olditem)\n",
        "print('My shopping list is now', shoplist)"
      ],
      "execution_count": 0,
      "outputs": []
    },
    {
      "metadata": {
        "id": "Vnlh9lby0ey0",
        "colab_type": "text"
      },
      "cell_type": "markdown",
      "source": [
        "**How It Works**\n",
        "\n",
        "The variable `shoplist` is a shopping list for someone who is going to the market. In `shoplist`, we only store strings of the names of the items to buy but you can add _any kind of object_ to a list including numbers and even other lists.\n",
        "\n",
        "We have also used the `for..in` loop to iterate through the items of the list. By now, you must have realised that a list is also a sequence. \n",
        "\n",
        "Notice the use of the `end` parameter in the call to `print` function to indicate that we want to end the output with a space instead of the usual line break.\n",
        "\n",
        "Next, we add an item to the list using the `append` method of the list object, as already discussed before. Then, we check that the item has been indeed added to the list by printing the contents of the list by simply passing the list to the `print` function which prints it neatly.\n",
        "\n",
        "Then, we sort the list by using the `sort` method of the list. It is important to understand that this method affects the list itself and does not return a modified list - this is different from the way strings work. This is what we mean by saying that lists are _mutable_ and that strings are _immutable_.\n",
        "\n",
        "Next, when we finish buying an item in the market, we want to remove it from the list. We achieve this by using the `del` statement. Here, we mention which item of the list we want to remove and the `del` statement removes it from the list for us.  We specify that we want to remove the first item from the list and hence we use `del shoplist[0]` (remember that Python starts counting from 0).\n",
        "\n",
        "If you want to know all the methods defined by the list object, see `help(list)` for details.\n"
      ]
    },
    {
      "metadata": {
        "id": "Uqvl9f8VnETe",
        "colab_type": "text"
      },
      "cell_type": "markdown",
      "source": [
        "## Tuple\n",
        "\n",
        "Tuples are used to hold together multiple objects. Think of them as similar to lists, but without the extensive functionality that the list class gives you. One major feature of tuples is that they are *immutable* like strings i.e. you cannot modify tuples.\n",
        "\n",
        "Tuples are defined by specifying items separated by commas within an optional pair of parentheses.\n",
        "\n",
        "Tuples are usually used in cases where a statement or a user-defined function can safely assume that the collection of values (i.e. the tuple of values used) will not change.\n",
        "\n",
        "**Example:**\n"
      ]
    },
    {
      "metadata": {
        "id": "gdwxcRtg08ie",
        "colab_type": "code",
        "colab": {
          "autoexec": {
            "startup": false,
            "wait_interval": 0
          }
        }
      },
      "cell_type": "code",
      "source": [
        "# I would recommend always using parentheses\n",
        "# to indicate start and end of tuple\n",
        "# even though parentheses are optional.\n",
        "# Explicit is better than implicit.\n",
        "zoo = ('python', 'elephant', 'penguin')\n",
        "print('Number of animals in the zoo is', len(zoo))\n",
        "\n",
        "new_zoo = 'monkey', 'camel', zoo    # parentheses not required but are a good idea\n",
        "print('Number of cages in the new zoo is', len(new_zoo))\n",
        "print('All animals in new zoo are', new_zoo)\n",
        "print('Animals brought from old zoo are', new_zoo[2])\n",
        "print('Last animal brought from old zoo is', new_zoo[2][2])\n",
        "print('Number of animals in the new zoo is',\n",
        "      len(new_zoo)-1+len(new_zoo[2]))"
      ],
      "execution_count": 0,
      "outputs": []
    },
    {
      "metadata": {
        "id": "d9dYRQY3091B",
        "colab_type": "text"
      },
      "cell_type": "markdown",
      "source": [
        "\n",
        "**How It Works**\n",
        "\n",
        "The variable `zoo` refers to a tuple of items. We see that the `len` function can be used to get the length of the tuple. This also indicates that a tuple is a [sequence](#sequence) as well.\n",
        "\n",
        "We are now shifting these animals to a new zoo since the old zoo is being closed. Therefore, the `new_zoo` tuple contains some animals which are already there along with the animals brought over from the old zoo. Back to reality, note that a tuple within a tuple does not lose its identity.\n",
        "\n",
        "We can access the items in the tuple by specifying the item's position within a pair of square brackets just like we did for lists. This is called the _indexing_ operator. We access the third item in `new_zoo` by specifying `new_zoo[2]` and we access the third item within the third item in the `new_zoo` tuple by specifying `new_zoo[2][2]`. This is pretty simple once you've understood the idiom.\n",
        "\n",
        "> **Tuple with 0 or 1 items**\n",
        "> \n",
        "> An empty tuple is constructed by an empty pair of parentheses such as `myempty = ()`. However, a tuple with a single item is not so simple. You have to specify it using a comma following the first (and only) item so that Python can differentiate between a tuple and a pair of parentheses surrounding the object in an expression i.e. you have to specify `singleton = (2 , )` if you mean you want a tuple containing the item `2`.\n",
        "\n",
        "\n"
      ]
    },
    {
      "metadata": {
        "id": "-Sp6k2AvnKNa",
        "colab_type": "text"
      },
      "cell_type": "markdown",
      "source": [
        "## Dictionary\n",
        "\n",
        "A dictionary is like an address-book where you can find the address or contact details of a person by knowing only his/her name i.e. we associate *keys* (name) with *values* (details). Note that the key must be unique just like you cannot find out the correct information if you have two persons with the exact same name.\n",
        "\n",
        "Note that you can use only immutable objects (like strings) for the keys of a dictionary but you can use either immutable or mutable objects for the values of the dictionary.  This basically translates to say that you should use only simple objects for keys.\n",
        "\n",
        "Pairs of keys and values are specified in a dictionary by using the notation `d = {key1 : value1, key2 : value2 }`. Notice that the key-value pairs are separated by a colon and the pairs are separated themselves by commas and all this is enclosed in a pair of curly braces.\n",
        "\n",
        "Remember that key-value pairs in a dictionary are not ordered in any manner. If you want a particular order, then you will have to sort them yourself before using it.\n",
        "\n",
        "The dictionaries that you will be using are instances/objects of the `dict` class.\n",
        "\n",
        "**Example**\n"
      ]
    },
    {
      "metadata": {
        "id": "SiJi0Mvx2Kxm",
        "colab_type": "code",
        "colab": {
          "autoexec": {
            "startup": false,
            "wait_interval": 0
          }
        }
      },
      "cell_type": "code",
      "source": [
        "# 'ab' is short for 'a'ddress'b'ook\n",
        "\n",
        "ab = {\n",
        "    'Swaroop': 'swaroop@swaroopch.com',\n",
        "    'Larry': 'larry@wall.org',\n",
        "    'Matsumoto': 'matz@ruby-lang.org',\n",
        "    'Spammer': 'spammer@hotmail.com'\n",
        "}\n",
        "\n",
        "print(\"Swaroop's address is\", ab['Swaroop'])\n",
        "\n",
        "# Deleting a key-value pair\n",
        "del ab['Spammer']\n",
        "\n",
        "print('\\nThere are now {} contacts in the address-book\\n'.format(len(ab)))\n",
        "\n",
        "for name, address in ab.items():\n",
        "    print('Contact {} at {}'.format(name, address))\n",
        "\n",
        "# Adding a key-value pair\n",
        "ab['Guido'] = 'guido@python.org'\n",
        "\n",
        "print('\\nThere are now {} contacts in the address-book\\n'.format(len(ab)))\n",
        "\n",
        "# Print all the dictionary keys\n",
        "for tk in ab.keys():\n",
        "    print('Contact {}'.format(tk))\n",
        "\n",
        "\n",
        "if 'Guido' in ab:\n",
        "    print(\"\\nGuido's address is\", ab['Guido'])"
      ],
      "execution_count": 0,
      "outputs": []
    },
    {
      "metadata": {
        "id": "vUu07VBx2MF0",
        "colab_type": "text"
      },
      "cell_type": "markdown",
      "source": [
        "**How It Works**\n",
        "\n",
        "We create the dictionary `ab` using the notation already discussed. We then access key-value pairs by specifying the key using the indexing operator as discussed in the context of lists and tuples. Observe the simple syntax.\n",
        "\n",
        "We can delete key-value pairs using our old friend - the `del` statement. We simply specify the dictionary and the indexing operator for the key to be removed and pass it to the `del` statement. There is no need to know the value corresponding to the key for this operation.\n",
        "\n",
        "Next, we access each key-value pair of the dictionary using the `items` method of the dictionary which returns a list of tuples where each tuple contains a pair of items - the key followed by the value. We retrieve this pair and assign it to the variables `name` and `address` correspondingly for each pair using the `for..in` loop and then print these values in the for-block.\n",
        "\n",
        "We can add new key-value pairs by simply using the indexing operator to access a key and assign that value, as we have done for Guido in the above case.\n",
        "\n",
        "We can check if a key-value pair exists using the `in` operator.\n",
        "\n",
        "For the list of methods of the `dict` class, see `help(dict)`.\n",
        "\n",
        "> **Keyword Arguments and Dictionaries**\n",
        "> \n",
        "> If you have used keyword arguments in your functions, you have already used dictionaries! Just think about it - the key-value pair is specified by you in the parameter list of the function definition and when you access variables within your function, it is just a key access of a dictionary (which is called the _symbol table_ in compiler design terminology).\n",
        "\n"
      ]
    },
    {
      "metadata": {
        "id": "Q8WQdlvuoNMc",
        "colab_type": "text"
      },
      "cell_type": "markdown",
      "source": [
        "## Sequence\n",
        "\n",
        "Lists, tuples and strings are examples of sequences, but what are sequences and what is so special about them?\n",
        "\n",
        "The major features are *membership tests*, (i.e. the `in` and `not in` expressions) and *indexing operations*, which allow us to fetch a particular item in the sequence directly.\n",
        "\n",
        "The three types of sequences mentioned above - lists, tuples and strings, also have a *slicing* operation which allows us to retrieve a slice of the sequence i.e. a part of the sequence.\n",
        "\n",
        "**Example:**\n"
      ]
    },
    {
      "metadata": {
        "id": "R4c82q9L2eqi",
        "colab_type": "code",
        "colab": {
          "autoexec": {
            "startup": false,
            "wait_interval": 0
          }
        }
      },
      "cell_type": "code",
      "source": [
        "shoplist = ['apple', 'mango', 'carrot', 'banana']\n",
        "name = 'swaroop'\n",
        "\n",
        "# Indexing or 'Subscription' operation #\n",
        "print('Item 0 is', shoplist[0])\n",
        "print('Item 1 is', shoplist[1])\n",
        "print('Item 2 is', shoplist[2])\n",
        "print('Item 3 is', shoplist[3])\n",
        "print('Item -1 is', shoplist[-1])\n",
        "print('Item -2 is', shoplist[-2])\n",
        "print('Character 0 is', name[0])\n",
        "\n",
        "# Slicing on a list #\n",
        "print('Item 1 to 3 is', shoplist[1:3])\n",
        "print('Item 2 to end is', shoplist[2:])\n",
        "print('Item 1 to -1 is', shoplist[1:-1])\n",
        "print('Item start to end is', shoplist[:])\n",
        "\n",
        "# Slicing on a string #\n",
        "print('characters 1 to 3 is', name[1:3])\n",
        "print('characters 2 to end is', name[2:])\n",
        "print('characters 1 to -1 is', name[1:-1])\n",
        "print('characters start to end is', name[:])"
      ],
      "execution_count": 0,
      "outputs": []
    },
    {
      "metadata": {
        "id": "YOQkW3VQ2gMU",
        "colab_type": "text"
      },
      "cell_type": "markdown",
      "source": [
        "**How It Works**\n",
        "\n",
        "First, we see how to use indexes to get individual items of a sequence. This is also referred to as the _subscription operation_. Whenever you specify a number to a sequence within square brackets as shown above, Python will fetch you the item corresponding to that position in the sequence. Remember that Python starts counting numbers from 0. Hence, `shoplist[0]` fetches the first item and `shoplist[3]` fetches the fourth item in the `shoplist`sequence.\n",
        "\n",
        "The index can also be a negative number, in which case, the position is calculated from the end of the sequence. Therefore, `shoplist[-1]` refers to the last item in the sequence and `shoplist[-2]` fetches the second last item in the sequence.\n",
        "\n",
        "The slicing operation is used by specifying the name of the sequence followed by an optional pair of numbers separated by a colon within square brackets. Note that this is very similar to the indexing operation you have been using till now. Remember the numbers are optional but the colon isn't.\n",
        "\n",
        "The first number (before the colon) in the slicing operation refers to the position from where the slice starts and the second number (after the colon) indicates where the slice will stop at. If the first number is not specified, Python will start at the beginning of the sequence. If the second number is left out, Python will stop at the end of the sequence. Note that the slice returned _starts_ at the start position and will end just before the _end_ position i.e. the start position is included but the end position is excluded from the sequence slice.\n",
        "\n",
        "Thus, `shoplist[1:3]` returns a slice of the sequence starting at position 1, includes position 2 but stops at position 3 and therefore a *slice* of two items is returned.  Similarly, `shoplist[:]` returns a copy of the whole sequence.\n",
        "\n",
        "You can also do slicing with negative positions. Negative numbers are used for positions from the end of the sequence. For example, `shoplist[:-1]` will return a slice of the sequence which excludes the last item of the sequence but contains everything else.\n",
        "\n",
        "You can also provide a third argument for the slice, which is the _step_ for the slicing (by default, the step size is 1):\n",
        "\n",
        "```python\n",
        ">>> shoplist = ['apple', 'mango', 'carrot', 'banana']\n",
        ">>> shoplist[::1]\n",
        "['apple', 'mango', 'carrot', 'banana']\n",
        ">>> shoplist[::2]\n",
        "['apple', 'carrot']\n",
        ">>> shoplist[::3]\n",
        "['apple', 'banana']\n",
        ">>> shoplist[::-1]\n",
        "['banana', 'carrot', 'mango', 'apple']\n",
        "```\n",
        "\n",
        "Notice that when the step is 2, we get the items with position 0, 2,... When the step size is 3, we get the items with position 0, 3, etc.\n",
        "\n",
        "Try various combinations of such slice specifications using the Python interpreter interactively i.e. the prompt so that you can see the results immediately. The great thing about sequences is that you can access tuples, lists and strings all in the same way!\n",
        "\n",
        "### Strings as sequences\n",
        "\n",
        "String are special types of list. Basically all you can do with lists you can also do it with strings. Here https://developers.google.com/edu/python/strings  you can find more details and examples\n"
      ]
    },
    {
      "metadata": {
        "id": "S27OlMMMp0r8",
        "colab_type": "text"
      },
      "cell_type": "markdown",
      "source": [
        "# Importing and Modules \n",
        "\n",
        "Allow to use classes and functions defined in another file.  A Python module is a file with the same name (plus the .py extension)\n",
        "\n",
        "It's like Java import or C++ include\n",
        "\n",
        "There are three formats of the command:\n",
        "\n",
        "*\t\t`import somefile`\n",
        "*\t\t`from somefile import *`\n",
        "*\t\t`from somefile import className`\n",
        "\n",
        "The difference? What gets imported from the file and what name refers to it after importing"
      ]
    },
    {
      "metadata": {
        "id": "QaZIx0kdq6Jm",
        "colab_type": "text"
      },
      "cell_type": "markdown",
      "source": [
        "### `import somefile`\n",
        "\n",
        "Everything in `somefile.py` gets imported. To refer to something in the file, append the text “somefile.” to the front of its name:\n",
        "\n",
        "`somefile.className.method(“abc”)`\n",
        "\n",
        "`somefile.myFunction(34)`\n"
      ]
    },
    {
      "metadata": {
        "id": "4f5b1pB2rLJg",
        "colab_type": "code",
        "colab": {
          "autoexec": {
            "startup": false,
            "wait_interval": 0
          }
        }
      },
      "cell_type": "code",
      "source": [
        "import time\n",
        "time.clock()"
      ],
      "execution_count": 0,
      "outputs": []
    },
    {
      "metadata": {
        "id": "yfoeqQwsrPVr",
        "colab_type": "text"
      },
      "cell_type": "markdown",
      "source": [
        "### `from somefile import *`\n",
        "\n",
        "Everything in `somefile.py` gets imported. To refer to anything in the module, just use its name. \n",
        "Everything in the module is now in the current namespace.\n",
        "\n",
        "Take care! Using this `import` command can easily overwrite the definition of an existing function or variable!\n",
        "\n",
        "`className.method(“abc”)`\n",
        "\n",
        "`myFunction(34)` \n",
        "\n",
        "\n",
        "\n"
      ]
    },
    {
      "metadata": {
        "id": "FOGb9INJr0Mm",
        "colab_type": "code",
        "colab": {
          "autoexec": {
            "startup": false,
            "wait_interval": 0
          }
        }
      },
      "cell_type": "code",
      "source": [
        "from time import *\n",
        "clock()"
      ],
      "execution_count": 0,
      "outputs": []
    },
    {
      "metadata": {
        "id": "rdNb7FuhsXgp",
        "colab_type": "text"
      },
      "cell_type": "markdown",
      "source": [
        "### `from somefile import className` \n",
        "\n",
        "Only the item `className`  in `somefile.py` gets imported.\n",
        "After importing `className`, you can just use it without a module prefix. It’s brought into the current namespace.\n",
        "\n",
        "Take care! Overwrites the definition of this name if already defined in the current namespace!\n",
        "\n",
        "className.method(“abc”)\t<-  imported\n",
        "\n",
        "myFunction(34)  \t\t<- Not imported\n"
      ]
    },
    {
      "metadata": {
        "id": "uIMIciUk31aw",
        "colab_type": "text"
      },
      "cell_type": "markdown",
      "source": [
        "Where does Python look for module files?\n",
        "The list of directories where Python will look for the files to be imported is  sys.path\n",
        "This is just a variable named ‘path’ stored inside the ‘sys’ module\n",
        "\n",
        "`>>> import sys`\n",
        "\n",
        "`sys.path`\n",
        "`['', '/Library/Frameworks/Python.framework/Versions/2.5/lib/python2.5/site-packages/setuptools-0.6c5-py2.5.egg’, …]`\n",
        "\n",
        "To add a directory of your own to this list, append it to this list\n",
        "`sys.path.append(‘/my/new/path’)`\n"
      ]
    }
  ]
}