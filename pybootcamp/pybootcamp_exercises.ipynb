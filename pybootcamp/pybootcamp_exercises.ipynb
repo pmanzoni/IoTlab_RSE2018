{
  "nbformat": 4,
  "nbformat_minor": 0,
  "metadata": {
    "colab": {
      "name": "pybootcamp_exercises.ipynb",
      "version": "0.3.2",
      "views": {},
      "default_view": {},
      "provenance": [],
      "toc_visible": true
    },
    "kernelspec": {
      "display_name": "Python 3",
      "language": "python",
      "name": "python3"
    }
  },
  "cells": [
    {
      "metadata": {
        "id": "_IP6Ux0g0m-z",
        "colab_type": "text"
      },
      "cell_type": "markdown",
      "source": [
        "# Simple programming exercises in Python "
      ]
    },
    {
      "metadata": {
        "id": "8BEVYWfLjyG5",
        "colab_type": "text"
      },
      "cell_type": "markdown",
      "source": [
        "## Exercise 1\n",
        "\n",
        "Create a program that asks the user to enter her/his name and her/his age. It has to print out a message that tells the year she/he will turn 100 years old.\n",
        "\n",
        "For example:\n",
        "```\n",
        "$ python3 ex1.py\n",
        "What is your name: Pietro\n",
        "How old are you: 25\n",
        "Pietro will be 100 years old in the year 2089\n",
        "$ _  \n",
        "```\n"
      ]
    },
    {
      "metadata": {
        "id": "3Rex13Osi6Mb",
        "colab_type": "code",
        "colab": {
          "autoexec": {
            "startup": false,
            "wait_interval": 0
          }
        }
      },
      "cell_type": "code",
      "source": [
        ""
      ],
      "execution_count": 0,
      "outputs": []
    },
    {
      "metadata": {
        "id": "Rgb6AkzD0m-3",
        "colab_type": "text"
      },
      "cell_type": "markdown",
      "source": [
        "## Exercise 2\n",
        "Write a **function** called `char_frequency` that gets a string as input parameter and returns a dictionary where each element stores the number of characters (character frequency) of the string received.\n",
        "\n",
        "For example:\n",
        "\n",
        "```\n",
        "def char_frequency(in_str):\n",
        "    #\n",
        "    # here is where your code is supposed to go\n",
        "    #\n",
        "    return dict\n",
        "    \n",
        "print(char_frequency('google.com'))\n",
        "```\n",
        "\n",
        "Executing the code you should get: \n",
        "```\n",
        "{'g': 2, 'o': 3, 'l': 1, 'e': 1, '.': 1, 'c': 1, 'm': 1}\n",
        "``` \n",
        "\n",
        "\n"
      ]
    },
    {
      "metadata": {
        "id": "ABCEVTah0m-4",
        "colab_type": "code",
        "colab": {
          "autoexec": {
            "startup": false,
            "wait_interval": 0
          }
        }
      },
      "cell_type": "code",
      "source": [
        ""
      ],
      "execution_count": 0,
      "outputs": []
    },
    {
      "metadata": {
        "id": "zsg4fnw00m-6",
        "colab_type": "text"
      },
      "cell_type": "markdown",
      "source": [
        "## Exercise 3\n",
        "Using the information relative to file managment that you can find here: https://docs.python.org/3/tutorial/inputoutput.html#reading-and-writing-files write a  program that reads a text file line by line and stores it into a list."
      ]
    },
    {
      "metadata": {
        "id": "P_yAdi_W0m-7",
        "colab_type": "code",
        "colab": {
          "autoexec": {
            "startup": false,
            "wait_interval": 0
          }
        }
      },
      "cell_type": "code",
      "source": [
        ""
      ],
      "execution_count": 0,
      "outputs": []
    }
  ]
}